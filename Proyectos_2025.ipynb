{
  "nbformat": 4,
  "nbformat_minor": 0,
  "metadata": {
    "colab": {
      "provenance": [],
      "authorship_tag": "ABX9TyNB5wUpWZ8JSKSuNCjooiyB",
      "include_colab_link": true
    },
    "kernelspec": {
      "name": "python3",
      "display_name": "Python 3"
    },
    "language_info": {
      "name": "python"
    }
  },
  "cells": [
    {
      "cell_type": "markdown",
      "metadata": {
        "id": "view-in-github",
        "colab_type": "text"
      },
      "source": [
        "<a href=\"https://colab.research.google.com/github/Maria1882/Maria1882/blob/Gore-2025/Proyectos_2025.ipynb\" target=\"_parent\"><img src=\"https://colab.research.google.com/assets/colab-badge.svg\" alt=\"Open In Colab\"/></a>"
      ]
    },
    {
      "cell_type": "code",
      "source": [
        "import pandas as pd\n",
        "import matplotlib.pyplot as plt\n",
        "\n",
        "# Cargar el archivo Excel\n",
        "data = pd.read_excel('Prueba.xlsx', skiprows=14)  # Saltar las primeras filas irrelevantes\n",
        "\n",
        "# Mostrar las primeras filas para explorar los datos\n",
        "print(\"Primeras filas del dataset:\")\n",
        "print(data.head())\n",
        "\n",
        "# Verificar columnas y tipos de datos\n",
        "print(\"\\nInformación del dataset:\")\n",
        "print(data.info())\n",
        "\n",
        "# Resumen estadístico\n",
        "print(\"\\nResumen estadístico:\")\n",
        "print(data.describe())"
      ],
      "metadata": {
        "id": "D9w3WjRkXr8v",
        "outputId": "aaa686e8-9dbf-4ea8-b475-629e5d1a6e6b",
        "colab": {
          "base_uri": "https://localhost:8080/"
        }
      },
      "execution_count": 17,
      "outputs": [
        {
          "output_type": "stream",
          "name": "stdout",
          "text": [
            "Primeras filas del dataset:\n",
            "  Unidad Ejecutora 001-831: REGION LA LIBERTAD-SEDE CENTRAL 813051521  \\\n",
            "0                                           Proyecto              PIA   \n",
            "1                                                NaN              NaN   \n",
            "2                 2001621: ESTUDIOS DE PRE-INVERSION         25744332   \n",
            "3            2016766: INICIATIVA A LA COMPETITIVIDAD         40077612   \n",
            "4  2133309: FORTALECIMIENTO INSTITUCIONAL DEL GOB...         20772314   \n",
            "\n",
            "  702107226      430776278         284751129                        247028349  \\\n",
            "0       PIM  Certificación  Compromiso Anual                        Ejecución   \n",
            "1       NaN            NaN               NaN  Atención de Compromiso Mensual    \n",
            "2  20308824       16414164          14650123                          6761524   \n",
            "3    221018          25600             25600                            25600   \n",
            "4  20439979       19775024          19275024                         16563054   \n",
            "\n",
            "    114236080 113631047       16.3  \n",
            "0         NaN       NaN  Avance %   \n",
            "1  Devengado    Girado         NaN  \n",
            "2     5299617   5294105       26.1  \n",
            "3       25600     18200       11.6  \n",
            "4     8452372   8382043       41.4  \n",
            "\n",
            "Información del dataset:\n",
            "<class 'pandas.core.frame.DataFrame'>\n",
            "RangeIndex: 233 entries, 0 to 232\n",
            "Data columns (total 9 columns):\n",
            " #   Column                                                     Non-Null Count  Dtype \n",
            "---  ------                                                     --------------  ----- \n",
            " 0   Unidad Ejecutora 001-831: REGION LA LIBERTAD-SEDE CENTRAL  232 non-null    object\n",
            " 1   813051521                                                  232 non-null    object\n",
            " 2   702107226                                                  232 non-null    object\n",
            " 3   430776278                                                  232 non-null    object\n",
            " 4   284751129                                                  232 non-null    object\n",
            " 5   247028349                                                  233 non-null    object\n",
            " 6   114236080                                                  232 non-null    object\n",
            " 7   113631047                                                  232 non-null    object\n",
            " 8    16.3                                                      232 non-null    object\n",
            "dtypes: object(9)\n",
            "memory usage: 16.5+ KB\n",
            "None\n",
            "\n",
            "Resumen estadístico:\n",
            "       Unidad Ejecutora 001-831: REGION LA LIBERTAD-SEDE CENTRAL  813051521  \\\n",
            "count                                                 232               232   \n",
            "unique                                                232                28   \n",
            "top                                              Proyecto                 0   \n",
            "freq                                                    1               205   \n",
            "\n",
            "        702107226  430776278  284751129  247028349  114236080  113631047  \\\n",
            "count         232        232        232        233        232        232   \n",
            "unique        228        159        106        104         81         81   \n",
            "top         67172          0          0          0          0          0   \n",
            "freq            4         73        126        129        152        152   \n",
            "\n",
            "         16.3  \n",
            "count     232  \n",
            "unique     64  \n",
            "top       0.0  \n",
            "freq      154  \n"
          ]
        }
      ]
    },
    {
      "cell_type": "code",
      "source": [
        "# Renombrar columnas para mayor claridad\n",
        "columnas = [\n",
        "    \"Proyecto\",\n",
        "    \"PIA\",\n",
        "    \"PIM\",\n",
        "    \"Certificación\",\n",
        "    \"Compromiso Anual\",\n",
        "    \"Ejecución\",\n",
        "    \"Devengado\",\n",
        "    \"Girado\",\n",
        "    \"Avance %\"\n",
        "]\n",
        "data.columns = columnas\n",
        "\n",
        "# Eliminar filas vacías o irrelevantes\n",
        "data = data.dropna(subset=[\"Proyecto\"])  # Mantener solo filas con proyectos válidos\n",
        "\n",
        "# Convertir columnas numéricas a tipo float\n",
        "def convertir_a_numero(valor):\n",
        "    try:\n",
        "        return float(str(valor).replace(\",\", \"\").replace(\" \", \"\").strip())\n",
        "    except ValueError:\n",
        "        return None\n",
        "\n",
        "columnas_numericas = [\"PIA\", \"PIM\", \"Certificación\", \"Compromiso Anual\", \"Ejecución\", \"Devengado\", \"Girado\", \"Avance %\"]\n",
        "for col in columnas_numericas:\n",
        "    data[col] = data[col].apply(convertir_a_numero)\n",
        "\n",
        "# Verificar datos limpios\n",
        "print(\"Datos limpios (primeras filas):\")\n",
        "print(data.head())\n",
        "\n",
        "# Resumen estadístico después de la limpieza\n",
        "print(\"\\nResumen estadístico después de la limpieza:\")\n",
        "print(data.describe())"
      ],
      "metadata": {
        "id": "ShLr6mTCXuls",
        "outputId": "61565da6-fa67-42e5-848d-81dccb30ff73",
        "colab": {
          "base_uri": "https://localhost:8080/"
        }
      },
      "execution_count": 18,
      "outputs": [
        {
          "output_type": "stream",
          "name": "stdout",
          "text": [
            "Datos limpios (primeras filas):\n",
            "                                            Proyecto         PIA         PIM  \\\n",
            "0                                           Proyecto         NaN         NaN   \n",
            "2                 2001621: ESTUDIOS DE PRE-INVERSION  25744332.0  20308824.0   \n",
            "3            2016766: INICIATIVA A LA COMPETITIVIDAD  40077612.0    221018.0   \n",
            "4  2133309: FORTALECIMIENTO INSTITUCIONAL DEL GOB...  20772314.0  20439979.0   \n",
            "5  2163439: MEJORAMIENTO TRAMOS CRITICOS DE LOS C...         0.0    109373.0   \n",
            "\n",
            "   Certificación  Compromiso Anual   Ejecución  Devengado     Girado  Avance %  \n",
            "0            NaN               NaN         NaN        NaN        NaN       NaN  \n",
            "2     16414164.0        14650123.0   6761524.0  5299617.0  5294105.0      26.1  \n",
            "3        25600.0           25600.0     25600.0    25600.0    18200.0      11.6  \n",
            "4     19775024.0        19275024.0  16563054.0  8452372.0  8382043.0      41.4  \n",
            "5        93902.0               0.0         0.0        0.0        0.0       0.0  \n",
            "\n",
            "Resumen estadístico después de la limpieza:\n",
            "                PIA           PIM  Certificación  Compromiso Anual  \\\n",
            "count  2.310000e+02  2.310000e+02   2.310000e+02      2.310000e+02   \n",
            "mean   3.519704e+06  3.039425e+06   1.864832e+06      1.232689e+06   \n",
            "std    1.510581e+07  7.487794e+06   6.084507e+06      4.825986e+06   \n",
            "min    0.000000e+00  4.450000e+02   0.000000e+00      0.000000e+00   \n",
            "25%    0.000000e+00  1.281275e+05   0.000000e+00      0.000000e+00   \n",
            "50%    0.000000e+00  3.325860e+05   1.017780e+05      0.000000e+00   \n",
            "75%    0.000000e+00  2.101896e+06   4.260135e+05      1.955615e+05   \n",
            "max    1.257837e+08  5.619586e+07   5.439827e+07      5.439827e+07   \n",
            "\n",
            "          Ejecución     Devengado        Girado    Avance %  \n",
            "count  2.310000e+02  2.310000e+02  2.310000e+02  231.000000  \n",
            "mean   1.069387e+06  4.945285e+05  4.919093e+05   13.664935  \n",
            "std    4.449999e+06  2.797456e+06  2.789521e+06   28.774494  \n",
            "min    0.000000e+00  0.000000e+00  0.000000e+00    0.000000  \n",
            "25%    0.000000e+00  0.000000e+00  0.000000e+00    0.000000  \n",
            "50%    0.000000e+00  0.000000e+00  0.000000e+00    0.000000  \n",
            "75%    1.524340e+05  6.125850e+04  6.125850e+04    9.450000  \n",
            "max    5.147983e+07  3.727808e+07  3.715926e+07  100.000000  \n"
          ]
        },
        {
          "output_type": "stream",
          "name": "stderr",
          "text": [
            "<ipython-input-18-66869570e4be>:27: SettingWithCopyWarning: \n",
            "A value is trying to be set on a copy of a slice from a DataFrame.\n",
            "Try using .loc[row_indexer,col_indexer] = value instead\n",
            "\n",
            "See the caveats in the documentation: https://pandas.pydata.org/pandas-docs/stable/user_guide/indexing.html#returning-a-view-versus-a-copy\n",
            "  data[col] = data[col].apply(convertir_a_numero)\n"
          ]
        }
      ]
    },
    {
      "cell_type": "code",
      "source": [
        "# Filtrar proyectos con avance mayor a 0%\n",
        "proyectos_relevantes = data[data[\"Avance %\"] > 0]\n",
        "\n",
        "# Calcular eficiencia de ejecución\n",
        "proyectos_relevantes[\"Eficiencia de Ejecución\"] = (proyectos_relevantes[\"Ejecución\"] / proyectos_relevantes[\"PIM\"]) * 100\n",
        "\n",
        "# Verificar los proyectos filtrados\n",
        "print(\"Proyectos relevantes (primeras filas):\")\n",
        "print(proyectos_relevantes.head())\n",
        "\n",
        "# Visualización: Distribución del avance y la ejecución\n",
        "import matplotlib.pyplot as plt\n",
        "\n",
        "plt.figure(figsize=(12, 6))\n",
        "\n",
        "# Histograma del porcentaje de avance\n",
        "plt.subplot(1, 2, 1)\n",
        "plt.hist(proyectos_relevantes[\"Avance %\"].dropna(), bins=20, color='skyblue', edgecolor='black')\n",
        "plt.title(\"Distribución del Porcentaje de Avance\")\n",
        "plt.xlabel(\"Avance %\")\n",
        "plt.ylabel(\"Frecuencia\")\n",
        "\n",
        "# Histograma de la eficiencia de ejecución\n",
        "plt.subplot(1, 2, 2)\n",
        "plt.hist(proyectos_relevantes[\"Eficiencia de Ejecución\"].dropna(), bins=20, color='lightgreen', edgecolor='black')\n",
        "plt.title(\"Distribución de la Eficiencia de Ejecución\")\n",
        "plt.xlabel(\"Eficiencia de Ejecución (%)\")\n",
        "plt.ylabel(\"Frecuencia\")\n",
        "\n",
        "plt.tight_layout()\n",
        "plt.show()"
      ],
      "metadata": {
        "id": "2CQWNSHXYJfL",
        "outputId": "8eded3bb-2231-46be-8a9e-476dbfbb136a",
        "colab": {
          "base_uri": "https://localhost:8080/",
          "height": 1000
        }
      },
      "execution_count": 19,
      "outputs": [
        {
          "output_type": "stream",
          "name": "stderr",
          "text": [
            "<ipython-input-19-212ce77c7087>:5: SettingWithCopyWarning: \n",
            "A value is trying to be set on a copy of a slice from a DataFrame.\n",
            "Try using .loc[row_indexer,col_indexer] = value instead\n",
            "\n",
            "See the caveats in the documentation: https://pandas.pydata.org/pandas-docs/stable/user_guide/indexing.html#returning-a-view-versus-a-copy\n",
            "  proyectos_relevantes[\"Eficiencia de Ejecución\"] = (proyectos_relevantes[\"Ejecución\"] / proyectos_relevantes[\"PIM\"]) * 100\n"
          ]
        },
        {
          "output_type": "stream",
          "name": "stdout",
          "text": [
            "Proyectos relevantes (primeras filas):\n",
            "                                            Proyecto         PIA         PIM  \\\n",
            "2                 2001621: ESTUDIOS DE PRE-INVERSION  25744332.0  20308824.0   \n",
            "3            2016766: INICIATIVA A LA COMPETITIVIDAD  40077612.0    221018.0   \n",
            "4  2133309: FORTALECIMIENTO INSTITUCIONAL DEL GOB...  20772314.0  20439979.0   \n",
            "6  2174446: INSTALACION DE LOS SERVICIOS PARA LA ...         0.0     63929.0   \n",
            "8  2189149: MEJORAMIENTO DEL SERVICIO EDUCATIVO D...         0.0      4323.0   \n",
            "\n",
            "   Certificación  Compromiso Anual   Ejecución  Devengado     Girado  \\\n",
            "2     16414164.0        14650123.0   6761524.0  5299617.0  5294105.0   \n",
            "3        25600.0           25600.0     25600.0    25600.0    18200.0   \n",
            "4     19775024.0        19275024.0  16563054.0  8452372.0  8382043.0   \n",
            "6        63928.0           63928.0     63928.0    63928.0    63928.0   \n",
            "8         4323.0            4323.0      4323.0     4323.0     3804.0   \n",
            "\n",
            "   Avance %  Eficiencia de Ejecución  \n",
            "2      26.1                33.293528  \n",
            "3      11.6                11.582767  \n",
            "4      41.4                81.032637  \n",
            "6     100.0                99.998436  \n",
            "8     100.0               100.000000  \n"
          ]
        },
        {
          "output_type": "display_data",
          "data": {
            "text/plain": [
              "<Figure size 1200x600 with 2 Axes>"
            ],
            "image/png": "[encoded data removed]"
          },
          "metadata": {}
        }
      ]
    },
    {
      "cell_type": "code",
      "source": [
        "# Mantener la columna 'Proyecto' junto con las características y el objetivo\n",
        "data_modelo = proyectos_relevantes.dropna(subset=variables + [objetivo])\n",
        "\n",
        "# Separar características (X), objetivo (y) y el nombre del proyecto\n",
        "X = data_modelo[variables]\n",
        "y = data_modelo[objetivo]\n",
        "proyectos = data_modelo[\"Proyecto\"]\n",
        "\n",
        "# Dividir los datos en conjuntos de entrenamiento y prueba\n",
        "X_train, X_test, y_train, y_test, proyectos_train, proyectos_test = train_test_split(\n",
        "    X, y, proyectos, test_size=0.2, random_state=42\n",
        ")\n",
        "\n",
        "# Normalizar los datos\n",
        "scaler = MinMaxScaler()\n",
        "X_train_scaled = scaler.fit_transform(X_train)\n",
        "X_test_scaled = scaler.transform(X_test)\n",
        "\n",
        "# Verificar los datos preparados con los nombres de los proyectos\n",
        "print(\"Datos de entrenamiento (primeras filas):\")\n",
        "print(pd.DataFrame(X_train_scaled, columns=variables).head())\n",
        "print(\"\\nProyectos de entrenamiento (primeras filas):\")\n",
        "print(proyectos_train.head())\n",
        "print(\"\\nObjetivo de entrenamiento (primeras filas):\")\n",
        "print(y_train.head())"
      ],
      "metadata": {
        "id": "cfwo0eXCYf1G",
        "outputId": "37b9e40b-487b-4d80-f629-8daa34c01116",
        "colab": {
          "base_uri": "https://localhost:8080/"
        }
      },
      "execution_count": 21,
      "outputs": [
        {
          "output_type": "stream",
          "name": "stdout",
          "text": [
            "Datos de entrenamiento (primeras filas):\n",
            "        PIA       PIM  Certificación  Compromiso Anual  Ejecución\n",
            "0  0.000000  0.006262       0.003994          0.003994   0.002984\n",
            "1  0.000000  0.003140       0.003204          0.003204   0.003385\n",
            "2  0.000000  0.026212       0.025917          0.025917   0.027363\n",
            "3  0.271157  0.287642       0.169584          0.169584   0.150620\n",
            "4  0.000000  0.003372       0.003441          0.003441   0.003636\n",
            "\n",
            "Proyectos de entrenamiento (primeras filas):\n",
            "16    2300713: CREACION DEL SERVICIO EDUCATIVO DE ED...\n",
            "9     2189742: MEJORAMIENTO DEL CENTRO DE EDUCACION ...\n",
            "56    2550271: MEJORAMIENTO DEL SERVICIO EDUCATIVO D...\n",
            "37    2456809: MEJORAMIENTO Y AMPLIACION DEL SERVICI...\n",
            "51    2550254: MEJORAMIENTO DEL SERVICIO EDUCATIVO D...\n",
            "Name: Proyecto, dtype: object\n",
            "\n",
            "Objetivo de entrenamiento (primeras filas):\n",
            "16     45.0\n",
            "9     100.0\n",
            "56     94.4\n",
            "37     48.2\n",
            "51    100.0\n",
            "Name: Avance %, dtype: float64\n"
          ]
        }
      ]
    },
    {
      "cell_type": "code",
      "source": [
        "import numpy as np\n",
        "\n",
        "# Crear un DataFrame con los resultados\n",
        "resultados = pd.DataFrame({\n",
        "    \"Proyecto\": proyectos_test.values,\n",
        "    \"Avance Real %\": y_test.values,\n",
        "    \"Avance Predicho %\": predicciones,\n",
        "    \"Error Absoluto\": np.abs(y_test.values - predicciones)\n",
        "})\n",
        "\n",
        "# Ordenar por el error absoluto para identificar los proyectos con mayor discrepancia\n",
        "resultados_ordenados = resultados.sort_values(by=\"Error Absoluto\", ascending=False)\n",
        "\n",
        "# Mostrar las primeras filas de los resultados\n",
        "print(\"Resultados del modelo (primeros proyectos):\")\n",
        "print(resultados_ordenados.head())"
      ],
      "metadata": {
        "id": "DRcoJ5GPZUjB",
        "outputId": "7027146f-3403-473d-ff47-92c39e817f9d",
        "colab": {
          "base_uri": "https://localhost:8080/"
        }
      },
      "execution_count": 23,
      "outputs": [
        {
          "output_type": "stream",
          "name": "stdout",
          "text": [
            "Resultados del modelo (primeros proyectos):\n",
            "                                             Proyecto  Avance Real %  \\\n",
            "2   2302495: CREACION DEL SERVICIO DE EDUCACION IN...           46.0   \n",
            "1   2550320: MEJORAMIENTO DEL SERVICIO EDUCATIVO D...          100.0   \n",
            "8   2590995: MEJORAMIENTO DE LOS SERVICIOS OPERATI...            0.4   \n",
            "4   2585553: MEJORAMIENTO DEL SERVICIO DE EDUCACIO...            1.9   \n",
            "11  2653416: MEJORAMIENTO DE LOS SERVICIOS EDUCACI...           69.7   \n",
            "\n",
            "    Avance Predicho %  Error Absoluto  \n",
            "2              92.602          46.602  \n",
            "1              65.771          34.229  \n",
            "8              25.582          25.182  \n",
            "4              23.559          21.659  \n",
            "11             48.322          21.378  \n"
          ]
        }
      ]
    },
    {
      "cell_type": "code",
      "source": [
        "import pandas as pd\n",
        "import numpy as np\n",
        "from sklearn.model_selection import train_test_split\n",
        "from sklearn.preprocessing import MinMaxScaler\n",
        "from sklearn.ensemble import RandomForestRegressor\n",
        "from sklearn.metrics import mean_squared_error, r2_score\n",
        "\n",
        "# Recargar los datos desde el archivo\n",
        "columnas = [\n",
        "    \"Proyecto\",\n",
        "    \"PIA\",\n",
        "    \"PIM\",\n",
        "    \"Certificación\",\n",
        "    \"Compromiso Anual\",\n",
        "    \"Ejecución\",\n",
        "    \"Devengado\",\n",
        "    \"Girado\",\n",
        "    \"Avance %\"\n",
        "]\n",
        "data = pd.read_excel('Prueba.xlsx', skiprows=14, names=columnas)\n",
        "\n",
        "# Eliminar filas vacías o irrelevantes\n",
        "data = data.dropna(subset=[\"Proyecto\"])\n",
        "\n",
        "# Convertir columnas numéricas a tipo float\n",
        "def convertir_a_numero(valor):\n",
        "    try:\n",
        "        return float(str(valor).replace(\",\", \"\").replace(\" \", \"\").strip())\n",
        "    except ValueError:\n",
        "        return None\n",
        "\n",
        "columnas_numericas = [\"PIA\", \"PIM\", \"Certificación\", \"Compromiso Anual\", \"Ejecución\", \"Devengado\", \"Girado\", \"Avance %\"]\n",
        "for col in columnas_numericas:\n",
        "    data[col] = data[col].apply(convertir_a_numero)\n",
        "\n",
        "# Filtrar proyectos con avance mayor a 0%\n",
        "proyectos_relevantes = data[data[\"Avance %\"] > 0]\n",
        "\n",
        "# Seleccionar variables relevantes\n",
        "variables = [\"PIA\", \"PIM\", \"Certificación\", \"Compromiso Anual\", \"Ejecución\"]\n",
        "objetivo = \"Avance %\"\n",
        "\n",
        "# Eliminar filas con valores faltantes en las columnas seleccionadas\n",
        "data_modelo = proyectos_relevantes.dropna(subset=variables + [objetivo])\n",
        "\n",
        "# Separar características (X), objetivo (y) y el nombre del proyecto\n",
        "X = data_modelo[variables]\n",
        "y = data_modelo[objetivo]\n",
        "proyectos = data_modelo[\"Proyecto\"]\n",
        "\n",
        "# Dividir los datos en conjuntos de entrenamiento y prueba\n",
        "X_train, X_test, y_train, y_test, proyectos_train, proyectos_test = train_test_split(\n",
        "    X, y, proyectos, test_size=0.2, random_state=42\n",
        ")\n",
        "\n",
        "# Normalizar los datos\n",
        "scaler = MinMaxScaler()\n",
        "X_train_scaled = scaler.fit_transform(X_train)\n",
        "X_test_scaled = scaler.transform(X_test)\n",
        "\n",
        "# Entrenar el modelo Random Forest\n",
        "rf_model = RandomForestRegressor(random_state=42, n_estimators=100)\n",
        "rf_model.fit(X_train_scaled, y_train)\n",
        "\n",
        "# Hacer predicciones\n",
        "predicciones = rf_model.predict(X_test_scaled)\n",
        "\n",
        "# Crear un DataFrame con los resultados\n",
        "resultados = pd.DataFrame({\n",
        "    \"Proyecto\": proyectos_test.values,\n",
        "    \"Avance Real %\": y_test.values,\n",
        "    \"Avance Predicho %\": predicciones,\n",
        "    \"Error Absoluto\": np.abs(y_test.values - predicciones)\n",
        "})\n",
        "\n",
        "# Ordenar por el error absoluto para identificar los proyectos con mayor discrepancia\n",
        "resultados_ordenados = resultados.sort_values(by=\"Error Absoluto\", ascending=False)\n",
        "\n",
        "# Mostrar las primeras filas de los resultados\n",
        "print(\"Resultados del modelo (primeros proyectos):\")\n",
        "print(resultados_ordenados.head())"
      ],
      "metadata": {
        "id": "conch_7ubX_L",
        "outputId": "bc8be089-2c2e-49bf-8042-c4c63b9d3815",
        "colab": {
          "base_uri": "https://localhost:8080/"
        }
      },
      "execution_count": 24,
      "outputs": [
        {
          "output_type": "stream",
          "name": "stdout",
          "text": [
            "Resultados del modelo (primeros proyectos):\n",
            "                                             Proyecto  Avance Real %  \\\n",
            "2   2302495: CREACION DEL SERVICIO DE EDUCACION IN...           46.0   \n",
            "1   2550320: MEJORAMIENTO DEL SERVICIO EDUCATIVO D...          100.0   \n",
            "8   2590995: MEJORAMIENTO DE LOS SERVICIOS OPERATI...            0.4   \n",
            "4   2585553: MEJORAMIENTO DEL SERVICIO DE EDUCACIO...            1.9   \n",
            "11  2653416: MEJORAMIENTO DE LOS SERVICIOS EDUCACI...           69.7   \n",
            "\n",
            "    Avance Predicho %  Error Absoluto  \n",
            "2              92.602          46.602  \n",
            "1              65.771          34.229  \n",
            "8              25.582          25.182  \n",
            "4              23.559          21.659  \n",
            "11             48.322          21.378  \n"
          ]
        }
      ]
    }
  ]
}